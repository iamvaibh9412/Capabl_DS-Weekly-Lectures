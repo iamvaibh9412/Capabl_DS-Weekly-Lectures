{
 "cells": [
  {
   "cell_type": "markdown",
   "id": "97ef5604",
   "metadata": {},
   "source": [
    "# Strings / Functions / Operators / Loops / Conditional Statements / Dictionaries"
   ]
  },
  {
   "cell_type": "markdown",
   "id": "2e36aeef",
   "metadata": {},
   "source": [
    "### Write a Python program to remove spaces from a given string"
   ]
  },
  {
   "cell_type": "code",
   "execution_count": null,
   "id": "e03f406c",
   "metadata": {
    "scrolled": true
   },
   "outputs": [],
   "source": [
    "string1 = \"C A P A B L\"\n",
    "string1.replace(\" \",\"\")"
   ]
  },
  {
   "cell_type": "markdown",
   "id": "8bdbb811",
   "metadata": {},
   "source": [
    "### Write a python program to remove the characters which have odd index values of a given string"
   ]
  },
  {
   "cell_type": "code",
   "execution_count": null,
   "id": "83a74df1",
   "metadata": {},
   "outputs": [],
   "source": [
    "def odd_values_string(str):\n",
    "    result = \"\" \n",
    "    for i in range(len(str)):\n",
    "        if i % 2 == 0:\n",
    "            result = result + str[i]\n",
    "    return result\n",
    "\n",
    "print(odd_values_string('CAPABL'))\n",
    "print(odd_values_string('PYTHON'))"
   ]
  },
  {
   "cell_type": "code",
   "execution_count": null,
   "id": "c331f518",
   "metadata": {},
   "outputs": [],
   "source": [
    "def odd_even(num):\n",
    "    if num % 2==0:\n",
    "        print(f'The Number {num} is even')\n",
    "    else:\n",
    "        print(f'The Number {num} is odd')"
   ]
  },
  {
   "cell_type": "markdown",
   "id": "810d4271",
   "metadata": {},
   "source": [
    "### Write a program to print following pattern"
   ]
  },
  {
   "cell_type": "code",
   "execution_count": null,
   "id": "950fc845",
   "metadata": {},
   "outputs": [],
   "source": [
    "A [Use ASCII Values]\n",
    "B B\n",
    "C C C\n",
    "D D D D\n",
    "E E E E E"
   ]
  },
  {
   "cell_type": "code",
   "execution_count": null,
   "id": "579de621",
   "metadata": {},
   "outputs": [],
   "source": [
    "n = 5\n",
    "p=65\n",
    "for i in range(n): \n",
    "    for j in range(i+1): \n",
    "        print(chr(p), end=' ')\n",
    "    p+=1\n",
    "    print()"
   ]
  },
  {
   "cell_type": "markdown",
   "id": "104f5456",
   "metadata": {},
   "source": [
    "### Write a Program to print Pascal triangle"
   ]
  },
  {
   "cell_type": "code",
   "execution_count": null,
   "id": "52d6ddbd",
   "metadata": {},
   "outputs": [],
   "source": [
    "Pascal’s Triangle\n",
    "    1\n",
    "   1 1\n",
    "  1 2 1\n",
    " 1 3 3 1\n",
    "1 4 6 4 1"
   ]
  },
  {
   "cell_type": "code",
   "execution_count": null,
   "id": "fda5c2e4",
   "metadata": {},
   "outputs": [],
   "source": [
    "def solve(n):\n",
    "    for i in range(n+1):\n",
    "        for j in range(n-i):\n",
    "            print(' ', end='')\n",
    "\n",
    "        C = 1\n",
    "        for j in range(1, i+1):\n",
    "            print(C, ' ', sep='', end='')\n",
    "            C = C * (i - j) // j\n",
    "        print()\n",
    "\n",
    "n = 5\n",
    "solve(n)"
   ]
  },
  {
   "cell_type": "code",
   "execution_count": null,
   "id": "e6a679a0",
   "metadata": {},
   "outputs": [],
   "source": [
    "list1=[15,56,67,34,89,78,504,342,455,66,23]\n",
    "list1.sort()\n",
    "print(f'The Smallest Num is: {list1[0]}')\n",
    "print(f'The Largest Num is: {list1[-1]}')"
   ]
  },
  {
   "cell_type": "markdown",
   "id": "825571fa",
   "metadata": {},
   "source": [
    "### Program to create find even and odd numbers from a List and store it in different list"
   ]
  },
  {
   "cell_type": "code",
   "execution_count": null,
   "id": "275c5411",
   "metadata": {},
   "outputs": [],
   "source": [
    "list1 = [1,4,5,23,56,7,9,4,2,67,56,34,98,78]\n",
    "even_num = []\n",
    "odd_num = []\n",
    "for i in list1:\n",
    "    if i%2 == 0:\n",
    "        even_num.append(i)\n",
    "    else:\n",
    "        odd_num.append(i)\n",
    "print(even_num)\n",
    "print(odd_num)    "
   ]
  },
  {
   "cell_type": "markdown",
   "id": "7719b20b",
   "metadata": {},
   "source": [
    "### Python program to find the sum of all items in a dictionary"
   ]
  },
  {
   "cell_type": "code",
   "execution_count": null,
   "id": "e71b49c0",
   "metadata": {},
   "outputs": [],
   "source": [
    "def returnSum(dict):\n",
    " \n",
    "    sum = 0\n",
    "    for i in dict:\n",
    "        sum = sum + dict[i]\n",
    " \n",
    "    return sum\n",
    "\n",
    "# Driver Function\n",
    "\n",
    "dict = {'a': 100, 'b': 200, 'c': 300}\n",
    "print(\"Sum :\", returnSum(dict))"
   ]
  },
  {
   "cell_type": "markdown",
   "id": "caa6e6a0",
   "metadata": {},
   "source": [
    "### Python program to find the smallest and largest number in a list (Without min-max function)"
   ]
  },
  {
   "cell_type": "code",
   "execution_count": null,
   "id": "bb8c20f0",
   "metadata": {},
   "outputs": [],
   "source": []
  }
 ],
 "metadata": {
  "kernelspec": {
   "display_name": "Python 3 (ipykernel)",
   "language": "python",
   "name": "python3"
  },
  "language_info": {
   "codemirror_mode": {
    "name": "ipython",
    "version": 3
   },
   "file_extension": ".py",
   "mimetype": "text/x-python",
   "name": "python",
   "nbconvert_exporter": "python",
   "pygments_lexer": "ipython3",
   "version": "3.9.13"
  }
 },
 "nbformat": 4,
 "nbformat_minor": 5
}
